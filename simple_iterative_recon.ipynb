{
 "cells": [
  {
   "cell_type": "code",
   "execution_count": null,
   "metadata": {
    "collapsed": false,
    "deletable": true,
    "editable": true
   },
   "outputs": [],
   "source": [
    "import dicom\n",
    "import os\n",
    "import numpy\n",
    "from matplotlib import pyplot\n",
    "import scipy.io as sio\n",
    "import pywt"
   ]
  },
  {
   "cell_type": "code",
   "execution_count": null,
   "metadata": {
    "collapsed": false,
    "deletable": true,
    "editable": true
   },
   "outputs": [],
   "source": [
    "def shrink(coeff, epsilon):\n",
    "    shrink_values = (abs(coeff) < epsilon) \n",
    "    high_values = coeff >= epsilon\n",
    "    low_values = coeff <= -epsilon\n",
    "    coeff[shrink_values] = 0\n",
    "    coeff[high_values] -= epsilon\n",
    "    coeff[low_values] += epsilon\n",
    "\n",
    "def waveletShrinkage(current, epsilon):\n",
    "    # Compute Wavelet decomposition\n",
    "    cA, (cH, cV, cD)  = pywt.dwt2(current, 'Haar')\n",
    "    #Shrink\n",
    "    shrink(cA, epsilon)\n",
    "    shrink(cH, epsilon)\n",
    "    shrink(cV, epsilon)\n",
    "    shrink(cD, epsilon)\n",
    "    wavelet = cA, (cH, cV, cD)\n",
    "    # return inverse WT\n",
    "    return pywt.idwt2(wavelet, 'Haar')\n",
    "\n",
    "def updateData(k_space, pattern, current, step):\n",
    "    # go to k-space\n",
    "    update = numpy.fft.ifft2(numpy.fft.fftshift(current))\n",
    "    # compute difference\n",
    "    update = k_space - (update * pattern)\n",
    "    # return to image space\n",
    "    update = numpy.fft.fftshift(numpy.fft.fft2(update))\n",
    "    update = current + (step * update)\n",
    "    return update"
   ]
  },
  {
   "cell_type": "code",
   "execution_count": null,
   "metadata": {
    "collapsed": false,
    "deletable": true,
    "editable": true
   },
   "outputs": [],
   "source": [
    "file = \"ResolutionPhantom.mat\"\n",
    "\n",
    "raw = sio.loadmat(file)\t\n",
    "kspace = raw.get('ResolutionPhantom')"
   ]
  },
  {
   "cell_type": "code",
   "execution_count": null,
   "metadata": {
    "collapsed": false,
    "deletable": true,
    "editable": true
   },
   "outputs": [],
   "source": [
    "numpy.random.seed(0)\n",
    "recon = (numpy.fft.fftshift(numpy.fft.fft2(kspace)))\n",
    "pattern = numpy.random.random_sample(kspace.shape)\n",
    "percent = 0.98\n",
    "low_values_indices = pattern <= percent  # Where values are low\n",
    "high_values_indices = pattern > percent  # Where values are high\n",
    "pattern[low_values_indices] = 0  # All low values set to 0\n",
    "pattern[high_values_indices] = 1  # All high values set to 1\n",
    "\n",
    "kspace = kspace * pattern\n",
    "\n",
    "current = numpy.zeros(kspace.size).reshape(kspace.shape)\n",
    "first = updateData(kspace, pattern, current, 1)\n",
    "early = first\n",
    "i = 0\n",
    "while i < 30:\n",
    "    current = updateData(kspace, pattern, current, 1)\n",
    "    current = waveletShrinkage(current, 0.001)\n",
    "    if (i==0):\n",
    "        early = current\n",
    "    i += 1\n",
    "\n",
    "#current = updateData(kspace, current, 0.1)"
   ]
  },
  {
   "cell_type": "markdown",
   "metadata": {
    "deletable": true,
    "editable": true
   },
   "source": [
    "## TODO\n",
    "* impleemnt with conjugate transpose\n",
    "* check shrinkage with 0\n",
    "* create smaller phantom to speed computation time up"
   ]
  },
  {
   "cell_type": "code",
   "execution_count": null,
   "metadata": {
    "collapsed": false,
    "deletable": true,
    "editable": true
   },
   "outputs": [],
   "source": [
    "fig=pyplot.figure(dpi=90)\n",
    "pyplot.subplot(221)\n",
    "pyplot.set_cmap(pyplot.gray())\n",
    "pyplot.imshow(abs(recon))\n",
    "pyplot.subplot(222)\n",
    "pyplot.set_cmap(pyplot.gray())\n",
    "pyplot.imshow(abs(first))\n",
    "pyplot.subplot(223)\n",
    "pyplot.set_cmap(pyplot.gray())\n",
    "pyplot.imshow(abs(early))\n",
    "pyplot.subplot(224)\n",
    "pyplot.set_cmap(pyplot.gray())\n",
    "pyplot.imshow(abs(current))\n",
    "pyplot.show()"
   ]
  }
 ],
 "metadata": {
  "kernelspec": {
   "display_name": "Python 3",
   "language": "python",
   "name": "python3"
  },
  "language_info": {
   "codemirror_mode": {
    "name": "ipython",
    "version": 3
   },
   "file_extension": ".py",
   "mimetype": "text/x-python",
   "name": "python",
   "nbconvert_exporter": "python",
   "pygments_lexer": "ipython3",
   "version": "3.5.2"
  }
 },
 "nbformat": 4,
 "nbformat_minor": 0
}

{
 "cells": [
  {
   "cell_type": "code",
   "execution_count": null,
   "metadata": {
    "collapsed": true,
    "deletable": true,
    "editable": true
   },
   "outputs": [],
   "source": [
    "import dicom\n",
    "import pylab\n",
    "import os\n",
    "import numpy as np\n",
    "from scipy.optimize import curve_fit\n",
    "import scipy.misc\n",
    "import matplotlib.pyplot as pyplot\n",
    "\n",
    "# show dicom\n",
    "def dcmshow(img):\n",
    "    pylab.imshow(img.pixel_array, cmap=pylab.cm.bone)\n",
    "    pylab.show()\n",
    "\n",
    "# fitting function\n",
    "def fitFunc (x, M, T1):\n",
    "    return np.fabs(M * (1 - 2 * np.exp(-x/T1)))"
   ]
  },
  {
   "cell_type": "code",
   "execution_count": null,
   "metadata": {
    "collapsed": false,
    "deletable": true,
    "editable": true
   },
   "outputs": [],
   "source": [
    "rootdir = 'IR_images'\n",
    "\n",
    "# read all files\n",
    "files = []  # create an empty list\n",
    "for dirName, subdirList, fileList in os.walk(rootdir):\n",
    "    for filename in fileList:\n",
    "        if \".dcm\" in filename.lower():  # check whether the file's DICOM\n",
    "            files.append(dicom.read_file(os.path.join(dirName,filename)))"
   ]
  },
  {
   "cell_type": "code",
   "execution_count": null,
   "metadata": {
    "collapsed": false,
    "deletable": true,
    "editable": true
   },
   "outputs": [],
   "source": [
    "Mimg = np.empty([files[0].Rows, files[0].Columns])\n",
    "T1img = np.empty([files[0].Rows, files[0].Columns])\n",
    "\n",
    "for r in range(0, files[0].Rows):\n",
    "    for c in range(0, files[0].Columns):\n",
    "        xdata = np.empty(len(files))\n",
    "        ydata = np.empty(len(files))\n",
    "        i = 0\n",
    "        for file in files:\n",
    "            xdata[i] = file.InversionTime\n",
    "            ydata[i] = file.pixel_array[r][c]\n",
    "            i += 1\n",
    "\n",
    "        if(ydata[0] > 500):\n",
    "            MT1 = curve_fit(fitFunc, xdata, ydata, [ydata[0], 600])[0]\n",
    "            Mimg[r][c] = MT1[0]\n",
    "            T1img[r][c] = MT1[1]"
   ]
  },
  {
   "cell_type": "code",
   "execution_count": null,
   "metadata": {
    "collapsed": false,
    "deletable": true,
    "editable": true
   },
   "outputs": [],
   "source": [
    "fig = pyplot.figure(dpi=256)\n",
    "pyplot.set_cmap(pyplot.gray())\n",
    "pyplot.xkcd()\n",
    "\n",
    "fig.add_subplot(121)\n",
    "pyplot.imshow(Mimg)\n",
    "pyplot.xlabel(\"Magnetization\")\n",
    "\n",
    "fig.add_subplot(122)\n",
    "pyplot.xlabel(\"T1\")\n",
    "pyplot.imshow(T1img)\n",
    "\n",
    "pyplot.show()"
   ]
  }
 ],
 "metadata": {
  "kernelspec": {
   "display_name": "Python 3",
   "language": "python",
   "name": "python3"
  },
  "language_info": {
   "codemirror_mode": {
    "name": "ipython",
    "version": 3
   },
   "file_extension": ".py",
   "mimetype": "text/x-python",
   "name": "python",
   "nbconvert_exporter": "python",
   "pygments_lexer": "ipython3",
   "version": "3.5.2"
  }
 },
 "nbformat": 4,
 "nbformat_minor": 2
}
